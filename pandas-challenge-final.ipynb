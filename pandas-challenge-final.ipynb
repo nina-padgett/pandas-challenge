{
 "cells": [
  {
   "cell_type": "code",
   "execution_count": 128,
   "id": "f719b6be",
   "metadata": {},
   "outputs": [],
   "source": [
    "# Dependencies and Setup\n",
    "import pandas as pd"
   ]
  },
  {
   "cell_type": "code",
   "execution_count": 129,
   "id": "292b98b3",
   "metadata": {},
   "outputs": [],
   "source": [
    "# File to Load (Remember to Change These)\n",
    "school_data_to_load = \"schools_complete.csv\"\n",
    "student_data_to_load = \"students_complete.csv\""
   ]
  },
  {
   "cell_type": "code",
   "execution_count": 130,
   "id": "4d8fe60e",
   "metadata": {},
   "outputs": [],
   "source": [
    "# Read School and Student Data File and store into Pandas DataFrames\n",
    "school_data = pd.read_csv(school_data_to_load)\n",
    "student_data = pd.read_csv(student_data_to_load)"
   ]
  },
  {
   "cell_type": "code",
   "execution_count": 131,
   "id": "af1f4c4f",
   "metadata": {},
   "outputs": [
    {
     "data": {
      "text/html": [
       "<div>\n",
       "<style scoped>\n",
       "    .dataframe tbody tr th:only-of-type {\n",
       "        vertical-align: middle;\n",
       "    }\n",
       "\n",
       "    .dataframe tbody tr th {\n",
       "        vertical-align: top;\n",
       "    }\n",
       "\n",
       "    .dataframe thead th {\n",
       "        text-align: right;\n",
       "    }\n",
       "</style>\n",
       "<table border=\"1\" class=\"dataframe\">\n",
       "  <thead>\n",
       "    <tr style=\"text-align: right;\">\n",
       "      <th></th>\n",
       "      <th>Student ID</th>\n",
       "      <th>student_name</th>\n",
       "      <th>gender</th>\n",
       "      <th>grade</th>\n",
       "      <th>school_name</th>\n",
       "      <th>reading_score</th>\n",
       "      <th>math_score</th>\n",
       "      <th>School ID</th>\n",
       "      <th>type</th>\n",
       "      <th>size</th>\n",
       "      <th>budget</th>\n",
       "    </tr>\n",
       "  </thead>\n",
       "  <tbody>\n",
       "    <tr>\n",
       "      <th>0</th>\n",
       "      <td>0</td>\n",
       "      <td>Paul Bradley</td>\n",
       "      <td>M</td>\n",
       "      <td>9th</td>\n",
       "      <td>Huang High School</td>\n",
       "      <td>66</td>\n",
       "      <td>79</td>\n",
       "      <td>0</td>\n",
       "      <td>District</td>\n",
       "      <td>2917</td>\n",
       "      <td>1910635</td>\n",
       "    </tr>\n",
       "    <tr>\n",
       "      <th>1</th>\n",
       "      <td>1</td>\n",
       "      <td>Victor Smith</td>\n",
       "      <td>M</td>\n",
       "      <td>12th</td>\n",
       "      <td>Huang High School</td>\n",
       "      <td>94</td>\n",
       "      <td>61</td>\n",
       "      <td>0</td>\n",
       "      <td>District</td>\n",
       "      <td>2917</td>\n",
       "      <td>1910635</td>\n",
       "    </tr>\n",
       "    <tr>\n",
       "      <th>2</th>\n",
       "      <td>2</td>\n",
       "      <td>Kevin Rodriguez</td>\n",
       "      <td>M</td>\n",
       "      <td>12th</td>\n",
       "      <td>Huang High School</td>\n",
       "      <td>90</td>\n",
       "      <td>60</td>\n",
       "      <td>0</td>\n",
       "      <td>District</td>\n",
       "      <td>2917</td>\n",
       "      <td>1910635</td>\n",
       "    </tr>\n",
       "    <tr>\n",
       "      <th>3</th>\n",
       "      <td>3</td>\n",
       "      <td>Dr. Richard Scott</td>\n",
       "      <td>M</td>\n",
       "      <td>12th</td>\n",
       "      <td>Huang High School</td>\n",
       "      <td>67</td>\n",
       "      <td>58</td>\n",
       "      <td>0</td>\n",
       "      <td>District</td>\n",
       "      <td>2917</td>\n",
       "      <td>1910635</td>\n",
       "    </tr>\n",
       "    <tr>\n",
       "      <th>4</th>\n",
       "      <td>4</td>\n",
       "      <td>Bonnie Ray</td>\n",
       "      <td>F</td>\n",
       "      <td>9th</td>\n",
       "      <td>Huang High School</td>\n",
       "      <td>97</td>\n",
       "      <td>84</td>\n",
       "      <td>0</td>\n",
       "      <td>District</td>\n",
       "      <td>2917</td>\n",
       "      <td>1910635</td>\n",
       "    </tr>\n",
       "  </tbody>\n",
       "</table>\n",
       "</div>"
      ],
      "text/plain": [
       "   Student ID       student_name gender grade        school_name  \\\n",
       "0           0       Paul Bradley      M   9th  Huang High School   \n",
       "1           1       Victor Smith      M  12th  Huang High School   \n",
       "2           2    Kevin Rodriguez      M  12th  Huang High School   \n",
       "3           3  Dr. Richard Scott      M  12th  Huang High School   \n",
       "4           4         Bonnie Ray      F   9th  Huang High School   \n",
       "\n",
       "   reading_score  math_score  School ID      type  size   budget  \n",
       "0             66          79          0  District  2917  1910635  \n",
       "1             94          61          0  District  2917  1910635  \n",
       "2             90          60          0  District  2917  1910635  \n",
       "3             67          58          0  District  2917  1910635  \n",
       "4             97          84          0  District  2917  1910635  "
      ]
     },
     "execution_count": 131,
     "metadata": {},
     "output_type": "execute_result"
    }
   ],
   "source": [
    "# Combine the data into a single dataset\n",
    "school_data_complete = pd.merge(student_data, school_data, how=\"left\", on=[\"school_name\", \"school_name\"])\n",
    "school_data_complete.head()"
   ]
  },
  {
   "cell_type": "code",
   "execution_count": 134,
   "id": "0c5e326a",
   "metadata": {},
   "outputs": [
    {
     "data": {
      "text/plain": [
       "81.87784018381414"
      ]
     },
     "execution_count": 134,
     "metadata": {},
     "output_type": "execute_result"
    }
   ],
   "source": [
    "# District Summary: Return total number of schools\n",
    "total_schools = school_data_complete[\"school_name\"].nunique()\n",
    "total_schools\n",
    "\n",
    "# District Summary: Return total number of students\n",
    "total_students = school_data_complete[\"size\"].count()\n",
    "total_students\n",
    "\n",
    "# District Summary: Return total budget\n",
    "total_budget = school_data[\"budget\"].sum()\n",
    "#total_budget =\"${:,.2f}\".format(total_budget)\n",
    "total_budget\n",
    "\n",
    "# District Summary: Return average math score\n",
    "average_math_score = student_data[\"math_score\"].mean()\n",
    "average_math_score\n",
    "\n",
    "# District Summary: Return average reading score\n",
    "average_reading_score = student_data[\"reading_score\"].mean()\n",
    "average_reading_score"
   ]
  },
  {
   "cell_type": "code",
   "execution_count": 133,
   "id": "1f2c1fe8",
   "metadata": {},
   "outputs": [
    {
     "data": {
      "text/html": [
       "<div>\n",
       "<style scoped>\n",
       "    .dataframe tbody tr th:only-of-type {\n",
       "        vertical-align: middle;\n",
       "    }\n",
       "\n",
       "    .dataframe tbody tr th {\n",
       "        vertical-align: top;\n",
       "    }\n",
       "\n",
       "    .dataframe thead th {\n",
       "        text-align: right;\n",
       "    }\n",
       "</style>\n",
       "<table border=\"1\" class=\"dataframe\">\n",
       "  <thead>\n",
       "    <tr style=\"text-align: right;\">\n",
       "      <th></th>\n",
       "      <th>Total Schools</th>\n",
       "      <th>Total Students</th>\n",
       "      <th>Total Budget</th>\n",
       "      <th>Average Math Score</th>\n",
       "      <th>Average Reading Score</th>\n",
       "    </tr>\n",
       "    <tr>\n",
       "      <th>school_name</th>\n",
       "      <th></th>\n",
       "      <th></th>\n",
       "      <th></th>\n",
       "      <th></th>\n",
       "      <th></th>\n",
       "    </tr>\n",
       "  </thead>\n",
       "  <tbody>\n",
       "    <tr>\n",
       "      <th>Bailey High School</th>\n",
       "      <td>15</td>\n",
       "      <td>39170</td>\n",
       "      <td>$24,649,428.00</td>\n",
       "      <td>77.048432</td>\n",
       "      <td>81.033963</td>\n",
       "    </tr>\n",
       "    <tr>\n",
       "      <th>Cabrera High School</th>\n",
       "      <td>15</td>\n",
       "      <td>39170</td>\n",
       "      <td>$24,649,428.00</td>\n",
       "      <td>83.061895</td>\n",
       "      <td>83.975780</td>\n",
       "    </tr>\n",
       "    <tr>\n",
       "      <th>Figueroa High School</th>\n",
       "      <td>15</td>\n",
       "      <td>39170</td>\n",
       "      <td>$24,649,428.00</td>\n",
       "      <td>76.711767</td>\n",
       "      <td>81.158020</td>\n",
       "    </tr>\n",
       "    <tr>\n",
       "      <th>Ford High School</th>\n",
       "      <td>15</td>\n",
       "      <td>39170</td>\n",
       "      <td>$24,649,428.00</td>\n",
       "      <td>77.102592</td>\n",
       "      <td>80.746258</td>\n",
       "    </tr>\n",
       "    <tr>\n",
       "      <th>Griffin High School</th>\n",
       "      <td>15</td>\n",
       "      <td>39170</td>\n",
       "      <td>$24,649,428.00</td>\n",
       "      <td>83.351499</td>\n",
       "      <td>83.816757</td>\n",
       "    </tr>\n",
       "    <tr>\n",
       "      <th>Hernandez High School</th>\n",
       "      <td>15</td>\n",
       "      <td>39170</td>\n",
       "      <td>$24,649,428.00</td>\n",
       "      <td>77.289752</td>\n",
       "      <td>80.934412</td>\n",
       "    </tr>\n",
       "    <tr>\n",
       "      <th>Holden High School</th>\n",
       "      <td>15</td>\n",
       "      <td>39170</td>\n",
       "      <td>$24,649,428.00</td>\n",
       "      <td>83.803279</td>\n",
       "      <td>83.814988</td>\n",
       "    </tr>\n",
       "    <tr>\n",
       "      <th>Huang High School</th>\n",
       "      <td>15</td>\n",
       "      <td>39170</td>\n",
       "      <td>$24,649,428.00</td>\n",
       "      <td>76.629414</td>\n",
       "      <td>81.182722</td>\n",
       "    </tr>\n",
       "    <tr>\n",
       "      <th>Johnson High School</th>\n",
       "      <td>15</td>\n",
       "      <td>39170</td>\n",
       "      <td>$24,649,428.00</td>\n",
       "      <td>77.072464</td>\n",
       "      <td>80.966394</td>\n",
       "    </tr>\n",
       "    <tr>\n",
       "      <th>Pena High School</th>\n",
       "      <td>15</td>\n",
       "      <td>39170</td>\n",
       "      <td>$24,649,428.00</td>\n",
       "      <td>83.839917</td>\n",
       "      <td>84.044699</td>\n",
       "    </tr>\n",
       "    <tr>\n",
       "      <th>Rodriguez High School</th>\n",
       "      <td>15</td>\n",
       "      <td>39170</td>\n",
       "      <td>$24,649,428.00</td>\n",
       "      <td>76.842711</td>\n",
       "      <td>80.744686</td>\n",
       "    </tr>\n",
       "    <tr>\n",
       "      <th>Shelton High School</th>\n",
       "      <td>15</td>\n",
       "      <td>39170</td>\n",
       "      <td>$24,649,428.00</td>\n",
       "      <td>83.359455</td>\n",
       "      <td>83.725724</td>\n",
       "    </tr>\n",
       "    <tr>\n",
       "      <th>Thomas High School</th>\n",
       "      <td>15</td>\n",
       "      <td>39170</td>\n",
       "      <td>$24,649,428.00</td>\n",
       "      <td>83.418349</td>\n",
       "      <td>83.848930</td>\n",
       "    </tr>\n",
       "    <tr>\n",
       "      <th>Wilson High School</th>\n",
       "      <td>15</td>\n",
       "      <td>39170</td>\n",
       "      <td>$24,649,428.00</td>\n",
       "      <td>83.274201</td>\n",
       "      <td>83.989488</td>\n",
       "    </tr>\n",
       "    <tr>\n",
       "      <th>Wright High School</th>\n",
       "      <td>15</td>\n",
       "      <td>39170</td>\n",
       "      <td>$24,649,428.00</td>\n",
       "      <td>83.682222</td>\n",
       "      <td>83.955000</td>\n",
       "    </tr>\n",
       "  </tbody>\n",
       "</table>\n",
       "</div>"
      ],
      "text/plain": [
       "                       Total Schools  Total Students    Total Budget  \\\n",
       "school_name                                                            \n",
       "Bailey High School                15           39170  $24,649,428.00   \n",
       "Cabrera High School               15           39170  $24,649,428.00   \n",
       "Figueroa High School              15           39170  $24,649,428.00   \n",
       "Ford High School                  15           39170  $24,649,428.00   \n",
       "Griffin High School               15           39170  $24,649,428.00   \n",
       "Hernandez High School             15           39170  $24,649,428.00   \n",
       "Holden High School                15           39170  $24,649,428.00   \n",
       "Huang High School                 15           39170  $24,649,428.00   \n",
       "Johnson High School               15           39170  $24,649,428.00   \n",
       "Pena High School                  15           39170  $24,649,428.00   \n",
       "Rodriguez High School             15           39170  $24,649,428.00   \n",
       "Shelton High School               15           39170  $24,649,428.00   \n",
       "Thomas High School                15           39170  $24,649,428.00   \n",
       "Wilson High School                15           39170  $24,649,428.00   \n",
       "Wright High School                15           39170  $24,649,428.00   \n",
       "\n",
       "                       Average Math Score  Average Reading Score  \n",
       "school_name                                                       \n",
       "Bailey High School              77.048432              81.033963  \n",
       "Cabrera High School             83.061895              83.975780  \n",
       "Figueroa High School            76.711767              81.158020  \n",
       "Ford High School                77.102592              80.746258  \n",
       "Griffin High School             83.351499              83.816757  \n",
       "Hernandez High School           77.289752              80.934412  \n",
       "Holden High School              83.803279              83.814988  \n",
       "Huang High School               76.629414              81.182722  \n",
       "Johnson High School             77.072464              80.966394  \n",
       "Pena High School                83.839917              84.044699  \n",
       "Rodriguez High School           76.842711              80.744686  \n",
       "Shelton High School             83.359455              83.725724  \n",
       "Thomas High School              83.418349              83.848930  \n",
       "Wilson High School              83.274201              83.989488  \n",
       "Wright High School              83.682222              83.955000  "
      ]
     },
     "execution_count": 133,
     "metadata": {},
     "output_type": "execute_result"
    }
   ],
   "source": [
    "pd.DataFrame({\"Total Schools\":total_schools,\"Total Students\":total_students,\"Total Budget\":total_budget,\"Average Math Score\":average_math_score,\"Average Reading Score\":average_reading_score})"
   ]
  },
  {
   "cell_type": "code",
   "execution_count": 6,
   "id": "6995c508",
   "metadata": {},
   "outputs": [
    {
     "ename": "NameError",
     "evalue": "name 'district_summary_df' is not defined",
     "output_type": "error",
     "traceback": [
      "\u001b[1;31m---------------------------------------------------------------------------\u001b[0m",
      "\u001b[1;31mNameError\u001b[0m                                 Traceback (most recent call last)",
      "\u001b[1;32m~\\AppData\\Local\\Temp/ipykernel_47644/2678450820.py\u001b[0m in \u001b[0;36m<module>\u001b[1;34m\u001b[0m\n\u001b[0;32m      1\u001b[0m \u001b[1;31m# Converted a dictionary to display the District Summary\u001b[0m\u001b[1;33m\u001b[0m\u001b[1;33m\u001b[0m\u001b[1;33m\u001b[0m\u001b[0m\n\u001b[1;32m----> 2\u001b[1;33m \u001b[0mdistrict_summary_df\u001b[0m\u001b[1;33m[\u001b[0m\u001b[1;34m\"Total Schools\"\u001b[0m\u001b[1;33m]\u001b[0m \u001b[1;33m=\u001b[0m \u001b[0mtotal_schools\u001b[0m\u001b[1;33m\u001b[0m\u001b[1;33m\u001b[0m\u001b[0m\n\u001b[0m\u001b[0;32m      3\u001b[0m \u001b[0mdistrict_summary_df\u001b[0m\u001b[1;33m[\u001b[0m\u001b[1;34m\"Total Students\"\u001b[0m\u001b[1;33m]\u001b[0m \u001b[1;33m=\u001b[0m \u001b[0mtotal_students\u001b[0m\u001b[1;33m\u001b[0m\u001b[1;33m\u001b[0m\u001b[0m\n\u001b[0;32m      4\u001b[0m \u001b[0mdistrict_summary_df\u001b[0m\u001b[1;33m[\u001b[0m\u001b[1;34m\"Total Budget\"\u001b[0m\u001b[1;33m]\u001b[0m \u001b[1;33m=\u001b[0m \u001b[0mtotal_budget\u001b[0m\u001b[1;33m\u001b[0m\u001b[1;33m\u001b[0m\u001b[0m\n\u001b[0;32m      5\u001b[0m \u001b[0mdistrict_summary_df\u001b[0m\u001b[1;33m[\u001b[0m\u001b[1;34m\"Average Math Score\"\u001b[0m\u001b[1;33m]\u001b[0m \u001b[1;33m=\u001b[0m \u001b[0maverage_math_score\u001b[0m\u001b[1;33m\u001b[0m\u001b[1;33m\u001b[0m\u001b[0m\n",
      "\u001b[1;31mNameError\u001b[0m: name 'district_summary_df' is not defined"
     ]
    }
   ],
   "source": []
  },
  {
   "cell_type": "code",
   "execution_count": 58,
   "id": "413548d7",
   "metadata": {},
   "outputs": [
    {
     "data": {
      "text/plain": [
       "school_name\n",
       "Bailey High School      District\n",
       "Cabrera High School      Charter\n",
       "Figueroa High School    District\n",
       "Ford High School        District\n",
       "Griffin High School      Charter\n",
       "Name: type, dtype: object"
      ]
     },
     "execution_count": 58,
     "metadata": {},
     "output_type": "execute_result"
    }
   ],
   "source": [
    "# School Summary: Return school type\n",
    "school_type_series = school_data_complete.groupby(\"school_name\").first()[\"type\"]\n",
    "school_type_series.head()"
   ]
  },
  {
   "cell_type": "code",
   "execution_count": 126,
   "id": "a053c510",
   "metadata": {},
   "outputs": [
    {
     "data": {
      "text/plain": [
       "school_name\n",
       "Bailey High School      4976\n",
       "Cabrera High School     1858\n",
       "Figueroa High School    2949\n",
       "Ford High School        2739\n",
       "Griffin High School     1468\n",
       "Name: size, dtype: int64"
      ]
     },
     "execution_count": 126,
     "metadata": {},
     "output_type": "execute_result"
    }
   ],
   "source": [
    "# School Summary: Return total students\n",
    "total_students_by_school = school_data_complete.groupby(\"school_name\").first()[\"size\"]\n",
    "total_students_by_school.head()"
   ]
  },
  {
   "cell_type": "code",
   "execution_count": 60,
   "id": "59617773",
   "metadata": {},
   "outputs": [
    {
     "data": {
      "text/plain": [
       "school_name\n",
       "Bailey High School      3124928.0\n",
       "Cabrera High School     1081356.0\n",
       "Figueroa High School    1884411.0\n",
       "Ford High School        1763916.0\n",
       "Griffin High School      917500.0\n",
       "Name: budget, dtype: float64"
      ]
     },
     "execution_count": 60,
     "metadata": {},
     "output_type": "execute_result"
    }
   ],
   "source": [
    "# School Summary: Return total school budget\n",
    "total_school_budget_by_school = school_data_complete.groupby(\"school_name\").mean()[\"budget\"]\n",
    "total_school_budget_by_school.head()"
   ]
  },
  {
   "cell_type": "code",
   "execution_count": 61,
   "id": "4358477a",
   "metadata": {},
   "outputs": [
    {
     "data": {
      "text/plain": [
       "school_name\n",
       "Bailey High School      628.0\n",
       "Cabrera High School     582.0\n",
       "Figueroa High School    639.0\n",
       "Ford High School        644.0\n",
       "Griffin High School     625.0\n",
       "dtype: float64"
      ]
     },
     "execution_count": 61,
     "metadata": {},
     "output_type": "execute_result"
    }
   ],
   "source": [
    "# School Summary: Return per student budget\n",
    "per_student_budget_by_school = total_school_budget/total_students\n",
    "per_student_budget_by_school.head()"
   ]
  },
  {
   "cell_type": "code",
   "execution_count": 62,
   "id": "c143ad5e",
   "metadata": {},
   "outputs": [
    {
     "data": {
      "text/plain": [
       "school_name\n",
       "Bailey High School      77.048432\n",
       "Cabrera High School     83.061895\n",
       "Figueroa High School    76.711767\n",
       "Ford High School        77.102592\n",
       "Griffin High School     83.351499\n",
       "Name: math_score, dtype: float64"
      ]
     },
     "execution_count": 62,
     "metadata": {},
     "output_type": "execute_result"
    }
   ],
   "source": [
    "# School Summary: Return average math score\n",
    "average_math_score_by_school = school_data_complete.groupby(\"school_name\").mean()[\"math_score\"]\n",
    "average_math_score_by_school.head()"
   ]
  },
  {
   "cell_type": "code",
   "execution_count": 57,
   "id": "a778d735",
   "metadata": {},
   "outputs": [
    {
     "data": {
      "text/plain": [
       "school_name\n",
       "Bailey High School      81.033963\n",
       "Cabrera High School     83.975780\n",
       "Figueroa High School    81.158020\n",
       "Ford High School        80.746258\n",
       "Griffin High School     83.816757\n",
       "Name: reading_score, dtype: float64"
      ]
     },
     "execution_count": 57,
     "metadata": {},
     "output_type": "execute_result"
    }
   ],
   "source": [
    "# School Summary: Return average reading score\n",
    "average_reading_score_by_school = school_data_complete.groupby(\"school_name\").mean()[\"reading_score\"]\n",
    "average_reading_score_by_school.head()"
   ]
  },
  {
   "cell_type": "code",
   "execution_count": 112,
   "id": "c50d0d8d",
   "metadata": {},
   "outputs": [
    {
     "data": {
      "text/plain": [
       "84.72810824610671"
      ]
     },
     "execution_count": 112,
     "metadata": {},
     "output_type": "execute_result"
    }
   ],
   "source": [
    "# School Summary: Return % passing math\n",
    "passing_math = school_data_complete[school_data_complete[\"math_score\"] >= 65].shape[0]\n",
    "total_students = school_data_complete[\"student_name\"].shape[0]\n",
    "percent_passing_math = passing_math/total_students * 100\n",
    "percent_passing_math"
   ]
  },
  {
   "cell_type": "code",
   "execution_count": 119,
   "id": "fddc1689",
   "metadata": {},
   "outputs": [
    {
     "ename": "AttributeError",
     "evalue": "'list' object has no attribute 'groupby'",
     "output_type": "error",
     "traceback": [
      "\u001b[1;31m---------------------------------------------------------------------------\u001b[0m",
      "\u001b[1;31mAttributeError\u001b[0m                            Traceback (most recent call last)",
      "\u001b[1;32m~\\AppData\\Local\\Temp/ipykernel_47644/1687659088.py\u001b[0m in \u001b[0;36m<module>\u001b[1;34m\u001b[0m\n\u001b[1;32m----> 1\u001b[1;33m \u001b[0mschool_data_complete\u001b[0m\u001b[1;33m[\u001b[0m\u001b[0mschool_data_complete\u001b[0m\u001b[1;33m[\u001b[0m\u001b[1;34m\"math_score\"\u001b[0m\u001b[1;33m]\u001b[0m \u001b[1;33m>=\u001b[0m \u001b[1;36m65\u001b[0m\u001b[1;33m]\u001b[0m\u001b[1;33m/\u001b[0m\u001b[1;33m[\u001b[0m\u001b[0mschool_data_complete\u001b[0m\u001b[1;33m[\u001b[0m\u001b[1;34m\"student_name\"\u001b[0m\u001b[1;33m]\u001b[0m\u001b[1;33m*\u001b[0m\u001b[1;36m100\u001b[0m\u001b[1;33m]\u001b[0m\u001b[1;33m.\u001b[0m\u001b[0mgroupby\u001b[0m\u001b[1;33m(\u001b[0m\u001b[1;34m\"school_name\"\u001b[0m\u001b[1;33m)\u001b[0m\u001b[1;33m.\u001b[0m\u001b[0mmean\u001b[0m\u001b[1;33m(\u001b[0m\u001b[1;33m)\u001b[0m\u001b[1;33m[\u001b[0m\u001b[1;34m\"math_score\"\u001b[0m\u001b[1;33m]\u001b[0m\u001b[1;33m\u001b[0m\u001b[1;33m\u001b[0m\u001b[0m\n\u001b[0m",
      "\u001b[1;31mAttributeError\u001b[0m: 'list' object has no attribute 'groupby'"
     ]
    }
   ],
   "source": [
    "# Second attempt unsuccessfully grouping the % Passing Math\n",
    "school_data_complete[school_data_complete[\"math_score\"] >= 65]/[school_data_complete[\"student_name\"]*100].groupby(\"school_name\").mean()[\"math_score\"]"
   ]
  },
  {
   "cell_type": "code",
   "execution_count": 120,
   "id": "1e45611b",
   "metadata": {},
   "outputs": [
    {
     "data": {
      "text/plain": [
       "96.19862139392393"
      ]
     },
     "execution_count": 120,
     "metadata": {},
     "output_type": "execute_result"
    }
   ],
   "source": [
    "# School Summary: Return % passing reading\n",
    "passing_reading = school_data_complete[school_data_complete[\"reading_score\"] >= 65].shape[0]\n",
    "total_students = school_data_complete[\"student_name\"].shape[0]\n",
    "percent_passing_reading = passing_reading/total_students * 100\n",
    "percent_passing_reading"
   ]
  },
  {
   "cell_type": "code",
   "execution_count": 121,
   "id": "f67eee85",
   "metadata": {},
   "outputs": [
    {
     "ename": "SyntaxError",
     "evalue": "invalid syntax (Temp/ipykernel_47644/3490456230.py, line 2)",
     "output_type": "error",
     "traceback": [
      "\u001b[1;36m  File \u001b[1;32m\"C:\\Users\\ninap\\AppData\\Local\\Temp/ipykernel_47644/3490456230.py\"\u001b[1;36m, line \u001b[1;32m2\u001b[0m\n\u001b[1;33m    percent_overall_passing = percent_passing_math and percent_passing reading\u001b[0m\n\u001b[1;37m                                                                       ^\u001b[0m\n\u001b[1;31mSyntaxError\u001b[0m\u001b[1;31m:\u001b[0m invalid syntax\n"
     ]
    }
   ],
   "source": [
    "# School Summary: Return % overall passing \n",
    "percent_overall_passing = percent_passing_math and percent_passing reading\n",
    "percent_overall_passing"
   ]
  },
  {
   "cell_type": "code",
   "execution_count": 124,
   "id": "1850a765",
   "metadata": {
    "scrolled": true
   },
   "outputs": [
    {
     "ename": "NameError",
     "evalue": "name 'total_students_by_school' is not defined",
     "output_type": "error",
     "traceback": [
      "\u001b[1;31m---------------------------------------------------------------------------\u001b[0m",
      "\u001b[1;31mNameError\u001b[0m                                 Traceback (most recent call last)",
      "\u001b[1;32m~\\AppData\\Local\\Temp/ipykernel_47644/2211087966.py\u001b[0m in \u001b[0;36m<module>\u001b[1;34m\u001b[0m\n\u001b[0;32m      1\u001b[0m \u001b[1;31m# Gather School Summary outputs into one data frame and name columns\u001b[0m\u001b[1;33m\u001b[0m\u001b[1;33m\u001b[0m\u001b[1;33m\u001b[0m\u001b[0m\n\u001b[1;32m----> 2\u001b[1;33m \u001b[0mpd\u001b[0m\u001b[1;33m.\u001b[0m\u001b[0mDataFrame\u001b[0m\u001b[1;33m(\u001b[0m\u001b[1;33m{\u001b[0m\u001b[1;34m\"Type\"\u001b[0m\u001b[1;33m:\u001b[0m\u001b[0mschool_type_series\u001b[0m\u001b[1;33m,\u001b[0m\u001b[1;34m\"Total Students\"\u001b[0m\u001b[1;33m:\u001b[0m\u001b[0mtotal_students_by_school\u001b[0m\u001b[1;33m,\u001b[0m\u001b[1;34m\"Total Student Budget\"\u001b[0m\u001b[1;33m:\u001b[0m\u001b[0mtotal_school_budget_by_school\u001b[0m\u001b[1;33m,\u001b[0m\u001b[1;34m\"Per Student Budget\"\u001b[0m\u001b[1;33m:\u001b[0m\u001b[0mper_student_budget_by_school\u001b[0m\u001b[1;33m,\u001b[0m\u001b[1;34m\"Average Math Score\"\u001b[0m\u001b[1;33m:\u001b[0m\u001b[0maverage_math_score_by_school\u001b[0m\u001b[1;33m,\u001b[0m\u001b[1;34m\"Average Reading Score\"\u001b[0m\u001b[1;33m:\u001b[0m\u001b[0maverage_reading_score_by_school\u001b[0m\u001b[1;33m}\u001b[0m\u001b[1;33m)\u001b[0m\u001b[1;33m\u001b[0m\u001b[1;33m\u001b[0m\u001b[0m\n\u001b[0m",
      "\u001b[1;31mNameError\u001b[0m: name 'total_students_by_school' is not defined"
     ]
    }
   ],
   "source": [
    "# Gather School Summary outputs into one data frame and name columns\n",
    "pd.DataFrame({\"Type\":school_type_series,\"Total Students\":total_students_by_school,\"Total Student Budget\":total_school_budget_by_school,\"Per Student Budget\":per_student_budget_by_school,\"Average Math Score\":average_math_score_by_school,\"Average Reading Score\":average_reading_score_by_school})"
   ]
  },
  {
   "cell_type": "code",
   "execution_count": null,
   "id": "bcaf3db6",
   "metadata": {},
   "outputs": [],
   "source": [
    "# Top performing schools by % Overall Passing"
   ]
  },
  {
   "cell_type": "code",
   "execution_count": null,
   "id": "5b7bc706",
   "metadata": {},
   "outputs": [],
   "source": [
    "# Bottom performing schools by % Overall Passing"
   ]
  },
  {
   "cell_type": "code",
   "execution_count": 151,
   "id": "150e989c",
   "metadata": {},
   "outputs": [
    {
     "data": {
      "text/plain": [
       "['9th', '10th', '11th', '12th']"
      ]
     },
     "execution_count": 151,
     "metadata": {},
     "output_type": "execute_result"
    }
   ],
   "source": [
    "# Average Math Score for students of each grade level (9th, 10th, 11th, 12th) at each school\n",
    "math_series = ([\"9th\",\"10th\",\"11th\",\"12th\"])\n",
    "math_series\n",
    "#math_series10 = pd.Series([])\n",
    "#create a pandas series\n",
    "#use a conditional statement\n",
    "#group each series by school"
   ]
  },
  {
   "cell_type": "code",
   "execution_count": 152,
   "id": "fa2088a1",
   "metadata": {},
   "outputs": [
    {
     "data": {
      "text/plain": [
       "['9th', '10th', '11th', '12th']"
      ]
     },
     "execution_count": 152,
     "metadata": {},
     "output_type": "execute_result"
    }
   ],
   "source": [
    "# Average Reading Score for students of each grade level (9th, 10th, 11th, 12th) at each school\n",
    "reading_series = ([\"9th\",\"10th\",\"11th\",\"12th\"])\n",
    "reading_series"
   ]
  },
  {
   "cell_type": "code",
   "execution_count": null,
   "id": "ad247b47",
   "metadata": {},
   "outputs": [],
   "source": [
    "# Scores by school spending"
   ]
  },
  {
   "cell_type": "code",
   "execution_count": null,
   "id": "ba0045f2",
   "metadata": {},
   "outputs": [],
   "source": [
    "# Scores by school size"
   ]
  },
  {
   "cell_type": "code",
   "execution_count": null,
   "id": "28ebe667",
   "metadata": {},
   "outputs": [],
   "source": [
    "# Scores by school type"
   ]
  }
 ],
 "metadata": {
  "kernelspec": {
   "display_name": "Python [conda env:PythonData38] *",
   "language": "python",
   "name": "conda-env-PythonData38-py"
  },
  "language_info": {
   "codemirror_mode": {
    "name": "ipython",
    "version": 3
   },
   "file_extension": ".py",
   "mimetype": "text/x-python",
   "name": "python",
   "nbconvert_exporter": "python",
   "pygments_lexer": "ipython3",
   "version": "3.8.12"
  }
 },
 "nbformat": 4,
 "nbformat_minor": 5
}
