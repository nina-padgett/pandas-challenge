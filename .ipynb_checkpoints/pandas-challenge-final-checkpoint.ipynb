{
 "cells": [
  {
   "cell_type": "code",
   "execution_count": null,
   "id": "f719b6be",
   "metadata": {},
   "outputs": [],
   "source": [
    "# Dependencies and Setup\n",
    "import pandas as pd"
   ]
  },
  {
   "cell_type": "code",
   "execution_count": null,
   "id": "292b98b3",
   "metadata": {},
   "outputs": [],
   "source": [
    "# File to Load\n",
    "school_data_to_load = \"schools_complete.csv\"\n",
    "student_data_to_load = \"students_complete.csv\""
   ]
  },
  {
   "cell_type": "code",
   "execution_count": null,
   "id": "4d8fe60e",
   "metadata": {},
   "outputs": [],
   "source": [
    "# Read School and Student Data File and store into Pandas DataFrames\n",
    "school_data = pd.read_csv(school_data_to_load)\n",
    "student_data = pd.read_csv(student_data_to_load)"
   ]
  },
  {
   "cell_type": "code",
   "execution_count": null,
   "id": "af1f4c4f",
   "metadata": {},
   "outputs": [],
   "source": [
    "# Combine the data into a single dataset\n",
    "school_data_complete = pd.merge(student_data, school_data, how=\"left\", on=[\"school_name\", \"school_name\"])\n",
    "school_data_complete.head(2)"
   ]
  },
  {
   "cell_type": "code",
   "execution_count": null,
   "id": "57dc2206",
   "metadata": {},
   "outputs": [],
   "source": [
    "# District Summary: Return total number of schools\n",
    "total_schools = school_data_complete[\"school_name\"].nunique()\n",
    "total_schools"
   ]
  },
  {
   "cell_type": "code",
   "execution_count": null,
   "id": "99d994f8",
   "metadata": {},
   "outputs": [],
   "source": [
    "# District Summary: Return total number of students\n",
    "total_students = school_data_complete[\"size\"].count()\n",
    "total_students"
   ]
  },
  {
   "cell_type": "code",
   "execution_count": null,
   "id": "39d493f6",
   "metadata": {},
   "outputs": [],
   "source": [
    "# District Summary: Return total budget\n",
    "total_budget = school_data[\"budget\"].sum()\n",
    "total_budget_format = school_data[\"budget\"].map(\"${:,.2f}\".format)\n",
    "total_budget_format"
   ]
  },
  {
   "cell_type": "code",
   "execution_count": null,
   "id": "ebea5780",
   "metadata": {},
   "outputs": [],
   "source": [
    "# District Summary: Return average math score\n",
    "average_math_score = student_data[\"math_score\"].mean()\n",
    "average_math_score"
   ]
  },
  {
   "cell_type": "code",
   "execution_count": null,
   "id": "f683416c",
   "metadata": {},
   "outputs": [],
   "source": [
    "# District Summary: Return average reading score\n",
    "average_reading_score = student_data[\"reading_score\"].mean()\n",
    "average_reading_score"
   ]
  },
  {
   "cell_type": "code",
   "execution_count": null,
   "id": "d45beb1a",
   "metadata": {},
   "outputs": [],
   "source": [
    "# District Summary: % passing math (return math scores greater than or equal to 70)\n",
    "district_passing_math = school_data_complete[school_data_complete.math_score>=70]\n",
    "district_passing_math"
   ]
  },
  {
   "cell_type": "code",
   "execution_count": null,
   "id": "2ad5eabb",
   "metadata": {},
   "outputs": [],
   "source": [
    "# District Summary: Return % passing math (count math scores greater than or equal to 70)\n",
    "district_passing_math_count = district_passing_math[\"Student ID\"].count()\n",
    "district_passing_math_count"
   ]
  },
  {
   "cell_type": "code",
   "execution_count": null,
   "id": "57539d63",
   "metadata": {},
   "outputs": [],
   "source": [
    "# District Summary: Return % passing math (formula)\n",
    "district_percent_passing_math = district_passing_math_count/total_students *100\n",
    "district_percent_passing_math"
   ]
  },
  {
   "cell_type": "code",
   "execution_count": null,
   "id": "774e0a20",
   "metadata": {},
   "outputs": [],
   "source": [
    "# District Summary: Return % passing reading (return reading scores greater than or equal to 70)\n",
    "district_passing_reading = school_data_complete[school_data_complete.reading_score>=70]\n",
    "district_passing_reading"
   ]
  },
  {
   "cell_type": "code",
   "execution_count": null,
   "id": "5b59621f",
   "metadata": {},
   "outputs": [],
   "source": [
    "# District Summary: Return % passing reading (count reading scores greater than or equal to 70)\n",
    "district_passing_reading_count = district_passing_reading[\"Student ID\"].count()\n",
    "district_passing_reading_count"
   ]
  },
  {
   "cell_type": "code",
   "execution_count": null,
   "id": "acc03a4d",
   "metadata": {},
   "outputs": [],
   "source": [
    "# District Summary: Return % passing reading (formula)\n",
    "district_percent_passing_reading = district_passing_reading_count/total_students *100\n",
    "district_percent_passing_reading"
   ]
  },
  {
   "cell_type": "code",
   "execution_count": null,
   "id": "b684e914",
   "metadata": {},
   "outputs": [],
   "source": [
    "# District Summary: Return % overall passing\n",
    "district_overall_passing = school_data_complete[(school_data_complete.reading_score>=70) & (school_data_complete.math_score>=70)]\n",
    "district_overall_passing"
   ]
  },
  {
   "cell_type": "code",
   "execution_count": null,
   "id": "389acfae",
   "metadata": {},
   "outputs": [],
   "source": [
    "# District Summary: Return % overall passing (formula)\n",
    "district_overall_passing_formula = district_overall_passing[\"Student ID\"].count()/total_students * 100\n",
    "district_overall_passing_formula"
   ]
  },
  {
   "cell_type": "code",
   "execution_count": null,
   "id": "cf06b640",
   "metadata": {},
   "outputs": [],
   "source": [
    "# District Summary: Create dataframe\n",
    "district_summary = pd.DataFrame({\"Total Schools\":total_schools,\"Total Students\":total_students,\"Total Budget\":total_budget,\"Average Math Score\":average_math_score,\"Average Reading Score\":average_reading_score,\"% Passing Math\":district_percent_passing_math,\"% Passing Reading\":district_percent_passing_reading,\"% Overall Passing\":district_overall_passing_formula},index=[0])\n",
    "district_summary"
   ]
  },
  {
   "cell_type": "code",
   "execution_count": null,
   "id": "2ba56c25",
   "metadata": {},
   "outputs": [],
   "source": [
    "# School Summary: Return school type\n",
    "school_type_series = school_data_complete.groupby(\"school_name\").first()[\"type\"]\n",
    "school_type_series.head()"
   ]
  },
  {
   "cell_type": "code",
   "execution_count": null,
   "id": "a053c510",
   "metadata": {},
   "outputs": [],
   "source": [
    "# School Summary: Return total students\n",
    "total_students_by_school = school_data_complete.groupby(\"school_name\").first()[\"size\"]\n",
    "total_students_by_school.head()"
   ]
  },
  {
   "cell_type": "code",
   "execution_count": null,
   "id": "59617773",
   "metadata": {},
   "outputs": [],
   "source": [
    "# School Summary: Return total school budget\n",
    "total_school_budget_by_school = school_data_complete.groupby(\"school_name\").mean()[\"budget\"]\n",
    "total_school_budget_by_school.head()"
   ]
  },
  {
   "cell_type": "code",
   "execution_count": null,
   "id": "f57c0fc1",
   "metadata": {},
   "outputs": [],
   "source": [
    "# School Summary: Return total students by school\n",
    "total_students_by_school = school_data_complete.groupby(\"school_name\").count()[\"School ID\"]\n",
    "total_students_by_school.head()"
   ]
  },
  {
   "cell_type": "code",
   "execution_count": null,
   "id": "4358477a",
   "metadata": {},
   "outputs": [],
   "source": [
    "# School Summary: Return per student budget\n",
    "per_student_budget_by_school = total_school_budget_by_school/total_students_by_school\n",
    "per_student_budget_by_school.head()"
   ]
  },
  {
   "cell_type": "code",
   "execution_count": null,
   "id": "c143ad5e",
   "metadata": {},
   "outputs": [],
   "source": [
    "# School Summary: Return average math score\n",
    "average_math_score_by_school = school_data_complete.groupby(\"school_name\").mean()[\"math_score\"]\n",
    "average_math_score_by_school.head()"
   ]
  },
  {
   "cell_type": "code",
   "execution_count": null,
   "id": "a778d735",
   "metadata": {},
   "outputs": [],
   "source": [
    "# School Summary: Return average reading score\n",
    "average_reading_score_by_school = school_data_complete.groupby(\"school_name\").mean()[\"reading_score\"]\n",
    "average_reading_score_by_school.head()"
   ]
  },
  {
   "cell_type": "code",
   "execution_count": null,
   "id": "c50d0d8d",
   "metadata": {},
   "outputs": [],
   "source": [
    "# School Summary: Return % passing math\n",
    "passing_math = school_data_complete[school_data_complete[\"math_score\"] >= 70]\n",
    "passing_math_by_school = passing_math.groupby(\"school_name\").count()[\"Student ID\"]\n",
    "percent_passing_math_by_school = passing_math_by_school/total_students_by_school * 100\n",
    "percent_passing_math_by_school"
   ]
  },
  {
   "cell_type": "code",
   "execution_count": null,
   "id": "f3016c99",
   "metadata": {},
   "outputs": [],
   "source": [
    "# School Summary: Return % passing reading\n",
    "passing_reading = school_data_complete[school_data_complete[\"reading_score\"] >= 70]\n",
    "passing_reading_by_school = passing_reading.groupby(\"school_name\").count()[\"Student ID\"]\n",
    "percent_passing_reading_by_school = passing_reading_by_school/total_students_by_school * 100\n",
    "percent_passing_reading_by_school"
   ]
  },
  {
   "cell_type": "code",
   "execution_count": null,
   "id": "213d6f63",
   "metadata": {},
   "outputs": [],
   "source": [
    "# School Summary: Return % overall passing\n",
    "school_overall_passing = school_data_complete[(school_data_complete.reading_score>=70) & (school_data_complete.math_score>=70)]\n",
    "school_overall_passing"
   ]
  },
  {
   "cell_type": "code",
   "execution_count": null,
   "id": "314ffc59",
   "metadata": {},
   "outputs": [],
   "source": [
    "school_overall_passing_grouped = school_overall_passing.groupby(\"school_name\").count()[\"Student ID\"]\n",
    "school_overall_passing_grouped"
   ]
  },
  {
   "cell_type": "code",
   "execution_count": null,
   "id": "9a0dcba6",
   "metadata": {},
   "outputs": [],
   "source": [
    "school_overall_passing_formula = school_overall_passing_grouped/total_students_by_school * 100\n",
    "school_overall_passing_formula"
   ]
  },
  {
   "cell_type": "code",
   "execution_count": null,
   "id": "bdee9f37",
   "metadata": {},
   "outputs": [],
   "source": [
    "# School Summary: Create dataframe\n",
    "school_summary = pd.DataFrame({\"School Type\":school_type_series,\"Total Students\":total_students_by_school,\"Total Budget\":total_school_budget_by_school,\"Per Student Budget\":per_student_budget_by_school,\"Average Math Score\":average_math_score_by_school,\"Average Reading Score\":average_reading_score_by_school,\"% Passing Math\":percent_passing_math_by_school,\"% Passing Reading\":percent_passing_reading_by_school,\"% Overall Passing\":school_overall_passing_formula})\n",
    "school_summary"
   ]
  },
  {
   "cell_type": "code",
   "execution_count": null,
   "id": "f67eee85",
   "metadata": {},
   "outputs": [],
   "source": [
    "# Top Performing Schools (By % Overall Passing)\n",
    "top_overall_passing_schools = school_summary[\"% Overall Passing\"].nlargest(n=5)\n",
    "top_overall_passing_schools"
   ]
  },
  {
   "cell_type": "code",
   "execution_count": null,
   "id": "1850a765",
   "metadata": {
    "scrolled": true
   },
   "outputs": [],
   "source": [
    "# Bottom Performing Schools (By % Overall Passing)\n",
    "bottom_overall_passing_schools = school_summary[\"% Overall Passing\"].nsmallest(n=5)\n",
    "bottom_overall_passing_schools"
   ]
  },
  {
   "cell_type": "code",
   "execution_count": null,
   "id": "8a0db05d",
   "metadata": {},
   "outputs": [],
   "source": [
    "# Math Scores by Grade\n",
    "ninth_grade_math_data = student_data.loc[student_data[\"grade\"]== \"9th\"]\n",
    "ninth_grade_math_data.head()"
   ]
  },
  {
   "cell_type": "code",
   "execution_count": null,
   "id": "92400190",
   "metadata": {},
   "outputs": [],
   "source": [
    "# Math Scores by Grade\n",
    "tenth_grade_math_data = student_data.loc[student_data[\"grade\"]== \"10th\"]\n",
    "tenth_grade_math_data.head()"
   ]
  },
  {
   "cell_type": "code",
   "execution_count": null,
   "id": "4f674e80",
   "metadata": {},
   "outputs": [],
   "source": [
    "# Math Scores by Grade\n",
    "eleventh_grade_math_data = student_data.loc[student_data[\"grade\"]== \"11th\"]\n",
    "eleventh_grade_math_data.head()"
   ]
  },
  {
   "cell_type": "code",
   "execution_count": null,
   "id": "729c24ad",
   "metadata": {},
   "outputs": [],
   "source": [
    "# Math Scores by Grade\n",
    "twelveth_grade_math_data = student_data.loc[student_data[\"grade\"]== \"12th\"]\n",
    "twelveth_grade_math_data.head()"
   ]
  },
  {
   "cell_type": "code",
   "execution_count": null,
   "id": "c71578c5",
   "metadata": {},
   "outputs": [],
   "source": [
    "# Math Scores by Grade\n",
    "ninth_average_math_scores = ninth_grade_math_data.groupby(\"school_name\").mean()[\"math_score\"]\n",
    "ninth_average_math_scores"
   ]
  },
  {
   "cell_type": "code",
   "execution_count": null,
   "id": "b87c618b",
   "metadata": {},
   "outputs": [],
   "source": [
    "# Math Scores by Grade\n",
    "tenth_average_math_scores = tenth_grade_math_data.groupby(\"school_name\").mean()[\"math_score\"]\n",
    "tenth_average_math_scores"
   ]
  },
  {
   "cell_type": "code",
   "execution_count": null,
   "id": "c6327cb0",
   "metadata": {},
   "outputs": [],
   "source": [
    "# Math Scores by Grade\n",
    "eleventh_average_math_scores = eleventh_grade_math_data.groupby(\"school_name\").mean()[\"math_score\"]\n",
    "eleventh_average_math_scores"
   ]
  },
  {
   "cell_type": "code",
   "execution_count": null,
   "id": "71940840",
   "metadata": {},
   "outputs": [],
   "source": [
    "# Math Scores by Grade\n",
    "twelveth_average_math_scores = twelveth_grade_math_data.groupby(\"school_name\").mean()[\"math_score\"]\n",
    "twelveth_average_math_scores"
   ]
  },
  {
   "cell_type": "code",
   "execution_count": null,
   "id": "150e989c",
   "metadata": {},
   "outputs": [],
   "source": [
    "# Average Math Score for students of each grade level (9th, 10th, 11th, 12th) at each school\n",
    "math_scores_by_grade = pd.DataFrame({\"9th\":ninth_average_math_scores,\"10th\":tenth_average_math_scores,\"11th\":eleventh_average_math_scores,\"12th\":twelveth_average_math_scores})\n",
    "math_scores_by_grade"
   ]
  },
  {
   "cell_type": "code",
   "execution_count": null,
   "id": "aedfc842",
   "metadata": {},
   "outputs": [],
   "source": [
    "# Reading Scores by Grade\n",
    "ninth_grade_reading_data = student_data.loc[student_data[\"grade\"]== \"9th\"]\n",
    "tenth_grade_reading_data = student_data.loc[student_data[\"grade\"]== \"10th\"]\n",
    "eleventh_grade_reading_data = student_data.loc[student_data[\"grade\"]== \"11th\"]\n",
    "twelveth_grade_reading_data = student_data.loc[student_data[\"grade\"]== \"12th\"]"
   ]
  },
  {
   "cell_type": "code",
   "execution_count": null,
   "id": "d264a77a",
   "metadata": {},
   "outputs": [],
   "source": [
    "# Reading Scores by Grade\n",
    "ninth_average_reading_scores = ninth_grade_math_data.groupby(\"school_name\").mean()[\"reading_score\"]\n",
    "tenth_average_reading_scores = tenth_grade_math_data.groupby(\"school_name\").mean()[\"reading_score\"]\n",
    "eleventh_average_reading_scores = eleventh_grade_math_data.groupby(\"school_name\").mean()[\"reading_score\"]\n",
    "twelveth_average_reading_scores = twelveth_grade_math_data.groupby(\"school_name\").mean()[\"reading_score\"]"
   ]
  },
  {
   "cell_type": "code",
   "execution_count": null,
   "id": "80965cc3",
   "metadata": {},
   "outputs": [],
   "source": [
    "# Average Reading Score for students of each grade level (9th, 10th, 11th, 12th) at each school\n",
    "reading_scores_by_grade = pd.DataFrame({\"9th\":ninth_average_reading_scores,\"10th\":tenth_average_reading_scores,\"11th\":eleventh_average_reading_scores,\"12th\":twelveth_average_reading_scores})\n",
    "reading_scores_by_grade"
   ]
  },
  {
   "cell_type": "code",
   "execution_count": null,
   "id": "5d544787",
   "metadata": {},
   "outputs": [],
   "source": [
    "# Scores by school spending: Create bins\n",
    "bins = [0,584,629,644,679]\n",
    "\n",
    "# Scores by school spending: Create labels for bins\n",
    "group_labels = [\"$0-$585\",\"$585-$630\",\"$630-$645\",\"$645-$680\"]"
   ]
  },
  {
   "cell_type": "code",
   "execution_count": null,
   "id": "b6897f1a",
   "metadata": {},
   "outputs": [],
   "source": [
    "# Scores by school spending: Slice the data and place it into bins\n",
    "pd.cut(school_summary[\"Per Student Budget\"], bins, labels=group_labels).head()"
   ]
  },
  {
   "cell_type": "code",
   "execution_count": null,
   "id": "9172218b",
   "metadata": {},
   "outputs": [],
   "source": [
    "# Scores by school spending: Place the data series into a new column inside of the dataframe\n",
    "school_summary[\"Spending Ranges (Per Student)\"] = pd.cut(school_summary[\"Per Student Budget\"], bins, labels=group_labels)\n",
    "school_summary.head()"
   ]
  },
  {
   "cell_type": "code",
   "execution_count": null,
   "id": "ed359ba6",
   "metadata": {},
   "outputs": [],
   "source": [
    "# Scores by school spending: Groupby Spending Ranges \n",
    "spending_ranges_grouped = school_summary.groupby(\"Spending Ranges (Per Student)\")"
   ]
  },
  {
   "cell_type": "code",
   "execution_count": null,
   "id": "035a5290",
   "metadata": {},
   "outputs": [],
   "source": [
    "# Scores by school spending: Return amount of rows fall into each bin\n",
    "print(spending_ranges_grouped[\"Per Student Budget\"].count())"
   ]
  },
  {
   "cell_type": "code",
   "execution_count": null,
   "id": "349adfc1",
   "metadata": {},
   "outputs": [],
   "source": [
    "# Scores by school spending: Return the values within the GroupBy object\n",
    "spending_ranges_grouped[[\"Average Math Score\", \"Average Reading Score\", \"% Passing Math\", \"% Passing Reading\", \"% Overall Passing\"]].mean()"
   ]
  },
  {
   "cell_type": "code",
   "execution_count": null,
   "id": "ba0045f2",
   "metadata": {},
   "outputs": [],
   "source": [
    "# Scores by school size: Create bins\n",
    "size_bins = [0,999,1999,4999]\n",
    "\n",
    "# Scores by school spending: Create labels for bins\n",
    "size_group_labels = [\"Small(<1000)\",\"Medium (1000-2000)\",\"Large (2000-5000)\"]"
   ]
  },
  {
   "cell_type": "code",
   "execution_count": null,
   "id": "28ebe667",
   "metadata": {},
   "outputs": [],
   "source": [
    "# Scores by school size: Slice the data and place it into bins\n",
    "pd.cut(school_summary[\"Total Students\"], size_bins, labels=size_group_labels).head()"
   ]
  },
  {
   "cell_type": "code",
   "execution_count": null,
   "id": "b10e5481",
   "metadata": {},
   "outputs": [],
   "source": [
    "# Scores by school size: Place the data series into a new column inside of the dataframe\n",
    "school_summary[\"School Size\"] = pd.cut(school_summary[\"Total Students\"], size_bins, labels=size_group_labels)\n",
    "school_summary.head()"
   ]
  },
  {
   "cell_type": "code",
   "execution_count": null,
   "id": "005d113d",
   "metadata": {},
   "outputs": [],
   "source": [
    "# Scores by school size: Groupby School Size \n",
    "school_size_grouped = school_summary.groupby(\"School Size\")"
   ]
  },
  {
   "cell_type": "code",
   "execution_count": null,
   "id": "5f8d0588",
   "metadata": {},
   "outputs": [],
   "source": [
    "# Scores by school size: Return amount of rows fall into each bin\n",
    "print(school_size_grouped[\"Total Students\"].count())"
   ]
  },
  {
   "cell_type": "code",
   "execution_count": null,
   "id": "5a0894f4",
   "metadata": {},
   "outputs": [],
   "source": [
    "# Scores by school size: Return the values within the GroupBy object\n",
    "school_size_grouped[[\"Average Math Score\", \"Average Reading Score\", \"% Passing Math\", \"% Passing Reading\", \"% Overall Passing\"]].mean()"
   ]
  },
  {
   "cell_type": "code",
   "execution_count": null,
   "id": "473a84e6",
   "metadata": {},
   "outputs": [],
   "source": [
    "# Scores by school type: Groupby School Type \n",
    "school_type_grouped = school_summary.groupby(\"School Type\")"
   ]
  },
  {
   "cell_type": "code",
   "execution_count": null,
   "id": "5d7d691e",
   "metadata": {},
   "outputs": [],
   "source": [
    "# Scores by school spending: Return the values within the GroupBy object\n",
    "school_type_grouped[[\"Average Math Score\", \"Average Reading Score\", \"% Passing Math\", \"% Passing Reading\", \"% Overall Passing\"]].mean()"
   ]
  }
 ],
 "metadata": {
  "kernelspec": {
   "display_name": "Python [conda env:PythonData38] *",
   "language": "python",
   "name": "conda-env-PythonData38-py"
  },
  "language_info": {
   "codemirror_mode": {
    "name": "ipython",
    "version": 3
   },
   "file_extension": ".py",
   "mimetype": "text/x-python",
   "name": "python",
   "nbconvert_exporter": "python",
   "pygments_lexer": "ipython3",
   "version": "3.8.12"
  }
 },
 "nbformat": 4,
 "nbformat_minor": 5
}
